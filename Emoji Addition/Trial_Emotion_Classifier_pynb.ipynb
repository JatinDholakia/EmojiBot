{
  "nbformat": 4,
  "nbformat_minor": 0,
  "metadata": {
    "colab": {
      "name": "CNN Emotion Classifier.pynb",
      "provenance": [],
      "collapsed_sections": [],
      "machine_shape": "hm"
    },
    "kernelspec": {
      "name": "python3",
      "display_name": "Python 3"
    },
    "accelerator": "GPU"
  },
  "cells": [
    {
      "cell_type": "markdown",
      "metadata": {
        "id": "QDVq-2LvQIj3",
        "colab_type": "text"
      },
      "source": [
        "#Imports and Data"
      ]
    },
    {
      "cell_type": "code",
      "metadata": {
        "id": "WXrf-BmnPfU6",
        "colab_type": "code",
        "outputId": "41a53f66-3996-4419-ba01-f8c70c741b6f",
        "colab": {
          "base_uri": "https://localhost:8080/",
          "height": 188
        }
      },
      "source": [
        "from sklearn.metrics import accuracy_score, classification_report, confusion_matrix\n",
        "from keras.preprocessing.text import Tokenizer\n",
        "from sklearn.model_selection import train_test_split\n",
        "import pandas as pd\n",
        "import random\n",
        "import numpy as np\n",
        "from keras.preprocessing import sequence\n",
        "from keras.utils import np_utils\n",
        "\n",
        "from keras.models import Sequential\n",
        "from keras.layers.core import Dense, Dropout, Activation, Lambda\n",
        "from keras.layers.embeddings import Embedding\n",
        "from keras.layers.recurrent import LSTM, SimpleRNN, GRU\n",
        "from keras.preprocessing.text import Tokenizer\n",
        "from collections import defaultdict\n",
        "\n",
        "from google.colab import drive\n",
        "drive.mount('/content/gdrive')\n",
        "\n",
        "datapath = '/content/gdrive/Shared drives/NLP/Project_Files/'\n",
        "modelpath = '/content/gdrive/Shared drives/NLP/Project_Files/Models/EmotionClassifier'\n",
        "\n",
        "import pickle as p"
      ],
      "execution_count": 0,
      "outputs": [
        {
          "output_type": "stream",
          "text": [
            "Using TensorFlow backend.\n"
          ],
          "name": "stderr"
        },
        {
          "output_type": "display_data",
          "data": {
            "text/html": [
              "<p style=\"color: red;\">\n",
              "The default version of TensorFlow in Colab will soon switch to TensorFlow 2.x.<br>\n",
              "We recommend you <a href=\"https://www.tensorflow.org/guide/migrate\" target=\"_blank\">upgrade</a> now \n",
              "or ensure your notebook will continue to use TensorFlow 1.x via the <code>%tensorflow_version 1.x</code> magic:\n",
              "<a href=\"https://colab.research.google.com/notebooks/tensorflow_version.ipynb\" target=\"_blank\">more info</a>.</p>\n"
            ],
            "text/plain": [
              "<IPython.core.display.HTML object>"
            ]
          },
          "metadata": {
            "tags": []
          }
        },
        {
          "output_type": "stream",
          "text": [
            "Go to this URL in a browser: https://accounts.google.com/o/oauth2/auth?client_id=947318989803-6bn6qk8qdgf4n4g3pfee6491hc0brc4i.apps.googleusercontent.com&redirect_uri=urn%3Aietf%3Awg%3Aoauth%3A2.0%3Aoob&scope=email%20https%3A%2F%2Fwww.googleapis.com%2Fauth%2Fdocs.test%20https%3A%2F%2Fwww.googleapis.com%2Fauth%2Fdrive%20https%3A%2F%2Fwww.googleapis.com%2Fauth%2Fdrive.photos.readonly%20https%3A%2F%2Fwww.googleapis.com%2Fauth%2Fpeopleapi.readonly&response_type=code\n",
            "\n",
            "Enter your authorization code:\n",
            "··········\n",
            "Mounted at /content/gdrive\n"
          ],
          "name": "stdout"
        }
      ]
    },
    {
      "cell_type": "code",
      "metadata": {
        "id": "t2tarNZiU6Ww",
        "colab_type": "code",
        "colab": {}
      },
      "source": [
        "import matplotlib.pyplot as plt\n",
        "%matplotlib inline\n",
        "\n",
        "from sklearn.model_selection import train_test_split, GridSearchCV\n",
        "from sklearn.feature_extraction.text import CountVectorizer, TfidfVectorizer\n",
        "from sklearn.naive_bayes import BernoulliNB, MultinomialNB\n",
        "from sklearn.linear_model import LogisticRegression\n",
        "from sklearn.ensemble import RandomForestClassifier\n",
        "from sklearn import metrics\n",
        "from sklearn.metrics import roc_auc_score, accuracy_score\n",
        "from sklearn.pipeline import Pipeline\n",
        "from sklearn.preprocessing import normalize\n",
        "\n",
        "from bs4 import BeautifulSoup  \n",
        "import re\n",
        "import nltk\n",
        "from nltk.corpus import stopwords \n",
        "from nltk.stem.porter import PorterStemmer\n",
        "from nltk.stem import SnowballStemmer, WordNetLemmatizer\n",
        "from nltk import sent_tokenize, word_tokenize, pos_tag"
      ],
      "execution_count": 0,
      "outputs": []
    },
    {
      "cell_type": "code",
      "metadata": {
        "id": "h0049F8T45rc",
        "colab_type": "code",
        "outputId": "f5d15aa0-fd5e-467f-a262-21e4f9513592",
        "colab": {
          "base_uri": "https://localhost:8080/",
          "height": 167
        }
      },
      "source": [
        "1.1.lower()"
      ],
      "execution_count": 0,
      "outputs": [
        {
          "output_type": "error",
          "ename": "AttributeError",
          "evalue": "ignored",
          "traceback": [
            "\u001b[0;31m---------------------------------------------------------------------------\u001b[0m",
            "\u001b[0;31mAttributeError\u001b[0m                            Traceback (most recent call last)",
            "\u001b[0;32m<ipython-input-46-a80ae6688add>\u001b[0m in \u001b[0;36m<module>\u001b[0;34m()\u001b[0m\n\u001b[0;32m----> 1\u001b[0;31m \u001b[0;36m1.1\u001b[0m\u001b[0;34m.\u001b[0m\u001b[0mlower\u001b[0m\u001b[0;34m(\u001b[0m\u001b[0;34m)\u001b[0m\u001b[0;34m\u001b[0m\u001b[0;34m\u001b[0m\u001b[0m\n\u001b[0m",
            "\u001b[0;31mAttributeError\u001b[0m: 'float' object has no attribute 'lower'"
          ]
        }
      ]
    },
    {
      "cell_type": "code",
      "metadata": {
        "id": "ZmP6z9M6GVE4",
        "colab_type": "code",
        "outputId": "f1da99ad-39ae-4dc8-afb8-15af57db5d09",
        "colab": {
          "base_uri": "https://localhost:8080/",
          "height": 609
        }
      },
      "source": [
        "train = pd.read_csv(datapath + 'train.csv')\n",
        "# data = data.dropna()\n",
        "train[:10]"
      ],
      "execution_count": 0,
      "outputs": [
        {
          "output_type": "stream",
          "text": [
            "/usr/local/lib/python3.6/dist-packages/IPython/core/interactiveshell.py:2718: DtypeWarning: Columns (4,9,10) have mixed types. Specify dtype option on import or set low_memory=False.\n",
            "  interactivity=interactivity, compiler=compiler, result=result)\n"
          ],
          "name": "stderr"
        },
        {
          "output_type": "execute_result",
          "data": {
            "text/html": [
              "<div>\n",
              "<style scoped>\n",
              "    .dataframe tbody tr th:only-of-type {\n",
              "        vertical-align: middle;\n",
              "    }\n",
              "\n",
              "    .dataframe tbody tr th {\n",
              "        vertical-align: top;\n",
              "    }\n",
              "\n",
              "    .dataframe thead th {\n",
              "        text-align: right;\n",
              "    }\n",
              "</style>\n",
              "<table border=\"1\" class=\"dataframe\">\n",
              "  <thead>\n",
              "    <tr style=\"text-align: right;\">\n",
              "      <th></th>\n",
              "      <th>conv_id</th>\n",
              "      <th>utterance_idx</th>\n",
              "      <th>context</th>\n",
              "      <th>prompt</th>\n",
              "      <th>speaker_idx</th>\n",
              "      <th>utterance</th>\n",
              "      <th>selfeval</th>\n",
              "      <th>tags</th>\n",
              "      <th>Unnamed: 8</th>\n",
              "      <th>Unnamed: 9</th>\n",
              "      <th>Unnamed: 10</th>\n",
              "    </tr>\n",
              "  </thead>\n",
              "  <tbody>\n",
              "    <tr>\n",
              "      <th>0</th>\n",
              "      <td>hit:0_conv:1</td>\n",
              "      <td>1</td>\n",
              "      <td>sadness</td>\n",
              "      <td>I remember going to the fireworks with my best...</td>\n",
              "      <td>1</td>\n",
              "      <td>I remember going to see the fireworks with my ...</td>\n",
              "      <td>5|5|5_2|2|5</td>\n",
              "      <td>NaN</td>\n",
              "      <td>NaN</td>\n",
              "      <td>NaN</td>\n",
              "      <td>NaN</td>\n",
              "    </tr>\n",
              "    <tr>\n",
              "      <th>1</th>\n",
              "      <td>hit:0_conv:1</td>\n",
              "      <td>2</td>\n",
              "      <td>sadness</td>\n",
              "      <td>I remember going to the fireworks with my best...</td>\n",
              "      <td>0</td>\n",
              "      <td>Was this a friend you were in love with_comma_...</td>\n",
              "      <td>5|5|5_2|2|5</td>\n",
              "      <td>NaN</td>\n",
              "      <td>NaN</td>\n",
              "      <td>NaN</td>\n",
              "      <td>NaN</td>\n",
              "    </tr>\n",
              "    <tr>\n",
              "      <th>2</th>\n",
              "      <td>hit:0_conv:1</td>\n",
              "      <td>3</td>\n",
              "      <td>sadness</td>\n",
              "      <td>I remember going to the fireworks with my best...</td>\n",
              "      <td>1</td>\n",
              "      <td>This was a best friend. I miss her.</td>\n",
              "      <td>5|5|5_2|2|5</td>\n",
              "      <td>NaN</td>\n",
              "      <td>NaN</td>\n",
              "      <td>NaN</td>\n",
              "      <td>NaN</td>\n",
              "    </tr>\n",
              "    <tr>\n",
              "      <th>3</th>\n",
              "      <td>hit:0_conv:1</td>\n",
              "      <td>4</td>\n",
              "      <td>sadness</td>\n",
              "      <td>I remember going to the fireworks with my best...</td>\n",
              "      <td>0</td>\n",
              "      <td>Where has she gone?</td>\n",
              "      <td>5|5|5_2|2|5</td>\n",
              "      <td>NaN</td>\n",
              "      <td>NaN</td>\n",
              "      <td>NaN</td>\n",
              "      <td>NaN</td>\n",
              "    </tr>\n",
              "    <tr>\n",
              "      <th>4</th>\n",
              "      <td>hit:0_conv:1</td>\n",
              "      <td>5</td>\n",
              "      <td>sadness</td>\n",
              "      <td>I remember going to the fireworks with my best...</td>\n",
              "      <td>1</td>\n",
              "      <td>We no longer talk.</td>\n",
              "      <td>5|5|5_2|2|5</td>\n",
              "      <td>NaN</td>\n",
              "      <td>NaN</td>\n",
              "      <td>NaN</td>\n",
              "      <td>NaN</td>\n",
              "    </tr>\n",
              "    <tr>\n",
              "      <th>5</th>\n",
              "      <td>hit:0_conv:1</td>\n",
              "      <td>6</td>\n",
              "      <td>sadness</td>\n",
              "      <td>I remember going to the fireworks with my best...</td>\n",
              "      <td>0</td>\n",
              "      <td>Oh was this something that happened because of...</td>\n",
              "      <td>5|5|5_2|2|5</td>\n",
              "      <td>NaN</td>\n",
              "      <td>NaN</td>\n",
              "      <td>NaN</td>\n",
              "      <td>NaN</td>\n",
              "    </tr>\n",
              "    <tr>\n",
              "      <th>6</th>\n",
              "      <td>hit:1_conv:2</td>\n",
              "      <td>1</td>\n",
              "      <td>fear</td>\n",
              "      <td>i used to scare for darkness</td>\n",
              "      <td>2</td>\n",
              "      <td>it feels like hitting to blank wall when i se...</td>\n",
              "      <td>4|3|4_3|5|5</td>\n",
              "      <td>NaN</td>\n",
              "      <td>NaN</td>\n",
              "      <td>NaN</td>\n",
              "      <td>NaN</td>\n",
              "    </tr>\n",
              "    <tr>\n",
              "      <th>7</th>\n",
              "      <td>hit:1_conv:2</td>\n",
              "      <td>2</td>\n",
              "      <td>fear</td>\n",
              "      <td>i used to scare for darkness</td>\n",
              "      <td>3</td>\n",
              "      <td>Oh ya? I don't really see how</td>\n",
              "      <td>4|3|4_3|5|5</td>\n",
              "      <td>NaN</td>\n",
              "      <td>NaN</td>\n",
              "      <td>NaN</td>\n",
              "      <td>NaN</td>\n",
              "    </tr>\n",
              "    <tr>\n",
              "      <th>8</th>\n",
              "      <td>hit:1_conv:2</td>\n",
              "      <td>3</td>\n",
              "      <td>fear</td>\n",
              "      <td>i used to scare for darkness</td>\n",
              "      <td>2</td>\n",
              "      <td>dont you feel so.. its a wonder</td>\n",
              "      <td>4|3|4_3|5|5</td>\n",
              "      <td>NaN</td>\n",
              "      <td>NaN</td>\n",
              "      <td>NaN</td>\n",
              "      <td>NaN</td>\n",
              "    </tr>\n",
              "    <tr>\n",
              "      <th>9</th>\n",
              "      <td>hit:1_conv:2</td>\n",
              "      <td>4</td>\n",
              "      <td>fear</td>\n",
              "      <td>i used to scare for darkness</td>\n",
              "      <td>3</td>\n",
              "      <td>I do actually hit blank walls a lot of times b...</td>\n",
              "      <td>4|3|4_3|5|5</td>\n",
              "      <td>NaN</td>\n",
              "      <td>NaN</td>\n",
              "      <td>NaN</td>\n",
              "      <td>NaN</td>\n",
              "    </tr>\n",
              "  </tbody>\n",
              "</table>\n",
              "</div>"
            ],
            "text/plain": [
              "        conv_id utterance_idx  context  ... Unnamed: 8 Unnamed: 9 Unnamed: 10\n",
              "0  hit:0_conv:1             1  sadness  ...        NaN        NaN         NaN\n",
              "1  hit:0_conv:1             2  sadness  ...        NaN        NaN         NaN\n",
              "2  hit:0_conv:1             3  sadness  ...        NaN        NaN         NaN\n",
              "3  hit:0_conv:1             4  sadness  ...        NaN        NaN         NaN\n",
              "4  hit:0_conv:1             5  sadness  ...        NaN        NaN         NaN\n",
              "5  hit:0_conv:1             6  sadness  ...        NaN        NaN         NaN\n",
              "6  hit:1_conv:2             1     fear  ...        NaN        NaN         NaN\n",
              "7  hit:1_conv:2             2     fear  ...        NaN        NaN         NaN\n",
              "8  hit:1_conv:2             3     fear  ...        NaN        NaN         NaN\n",
              "9  hit:1_conv:2             4     fear  ...        NaN        NaN         NaN\n",
              "\n",
              "[10 rows x 11 columns]"
            ]
          },
          "metadata": {
            "tags": []
          },
          "execution_count": 3
        }
      ]
    },
    {
      "cell_type": "code",
      "metadata": {
        "id": "rcoDlJGQ3Z-s",
        "colab_type": "code",
        "outputId": "c431a426-9d6d-4cc9-bd84-73d24f1ca612",
        "colab": {
          "base_uri": "https://localhost:8080/",
          "height": 537
        }
      },
      "source": [
        "test = pd.read_csv(datapath + 'test.csv')\n",
        "test[:10]"
      ],
      "execution_count": 0,
      "outputs": [
        {
          "output_type": "execute_result",
          "data": {
            "text/html": [
              "<div>\n",
              "<style scoped>\n",
              "    .dataframe tbody tr th:only-of-type {\n",
              "        vertical-align: middle;\n",
              "    }\n",
              "\n",
              "    .dataframe tbody tr th {\n",
              "        vertical-align: top;\n",
              "    }\n",
              "\n",
              "    .dataframe thead th {\n",
              "        text-align: right;\n",
              "    }\n",
              "</style>\n",
              "<table border=\"1\" class=\"dataframe\">\n",
              "  <thead>\n",
              "    <tr style=\"text-align: right;\">\n",
              "      <th></th>\n",
              "      <th>conv_id</th>\n",
              "      <th>utterance_idx</th>\n",
              "      <th>context</th>\n",
              "      <th>prompt</th>\n",
              "      <th>speaker_idx</th>\n",
              "      <th>utterance</th>\n",
              "      <th>selfeval</th>\n",
              "      <th>tags</th>\n",
              "    </tr>\n",
              "  </thead>\n",
              "  <tbody>\n",
              "    <tr>\n",
              "      <th>0</th>\n",
              "      <td>hit:0_conv:0</td>\n",
              "      <td>1</td>\n",
              "      <td>disgust</td>\n",
              "      <td>I felt guilty when I was driving home one nigh...</td>\n",
              "      <td>0.0</td>\n",
              "      <td>Yeah about 10 years ago I had a horrifying exp...</td>\n",
              "      <td>2|2|5_5|5|5</td>\n",
              "      <td>NaN</td>\n",
              "    </tr>\n",
              "    <tr>\n",
              "      <th>1</th>\n",
              "      <td>hit:0_conv:0</td>\n",
              "      <td>2</td>\n",
              "      <td>disgust</td>\n",
              "      <td>I felt guilty when I was driving home one nigh...</td>\n",
              "      <td>1.0</td>\n",
              "      <td>Did you suffer any injuries?</td>\n",
              "      <td>2|2|5_5|5|5</td>\n",
              "      <td>NaN</td>\n",
              "    </tr>\n",
              "    <tr>\n",
              "      <th>2</th>\n",
              "      <td>hit:0_conv:0</td>\n",
              "      <td>3</td>\n",
              "      <td>disgust</td>\n",
              "      <td>I felt guilty when I was driving home one nigh...</td>\n",
              "      <td>0.0</td>\n",
              "      <td>No I wasn't hit. It turned out they were drunk...</td>\n",
              "      <td>2|2|5_5|5|5</td>\n",
              "      <td>NaN</td>\n",
              "    </tr>\n",
              "    <tr>\n",
              "      <th>3</th>\n",
              "      <td>hit:0_conv:0</td>\n",
              "      <td>4</td>\n",
              "      <td>disgust</td>\n",
              "      <td>I felt guilty when I was driving home one nigh...</td>\n",
              "      <td>1.0</td>\n",
              "      <td>Why did you feel guilty? People really shouldn...</td>\n",
              "      <td>2|2|5_5|5|5</td>\n",
              "      <td>NaN</td>\n",
              "    </tr>\n",
              "    <tr>\n",
              "      <th>4</th>\n",
              "      <td>hit:0_conv:0</td>\n",
              "      <td>5</td>\n",
              "      <td>disgust</td>\n",
              "      <td>I felt guilty when I was driving home one nigh...</td>\n",
              "      <td>0.0</td>\n",
              "      <td>I don't know I was new to driving and hadn't e...</td>\n",
              "      <td>2|2|5_5|5|5</td>\n",
              "      <td>NaN</td>\n",
              "    </tr>\n",
              "    <tr>\n",
              "      <th>5</th>\n",
              "      <td>hit:34_conv:69</td>\n",
              "      <td>1</td>\n",
              "      <td>contentment</td>\n",
              "      <td>My mother stopped by my house one day and said...</td>\n",
              "      <td>45.0</td>\n",
              "      <td>Well_comma_ can you tell me about your experie...</td>\n",
              "      <td>5|5|5_3|2|2</td>\n",
              "      <td>NaN</td>\n",
              "    </tr>\n",
              "    <tr>\n",
              "      <th>6</th>\n",
              "      <td>hit:34_conv:69</td>\n",
              "      <td>2</td>\n",
              "      <td>contentment</td>\n",
              "      <td>My mother stopped by my house one day and said...</td>\n",
              "      <td>12.0</td>\n",
              "      <td>Yeah i wanted to tell you about the time i was...</td>\n",
              "      <td>5|5|5_3|2|2</td>\n",
              "      <td>NaN</td>\n",
              "    </tr>\n",
              "    <tr>\n",
              "      <th>7</th>\n",
              "      <td>hit:34_conv:69</td>\n",
              "      <td>3</td>\n",
              "      <td>contentment</td>\n",
              "      <td>My mother stopped by my house one day and said...</td>\n",
              "      <td>45.0</td>\n",
              "      <td>Oh my goodness_comma_ that's very scary! I hop...</td>\n",
              "      <td>5|5|5_3|2|2</td>\n",
              "      <td>NaN</td>\n",
              "    </tr>\n",
              "    <tr>\n",
              "      <th>8</th>\n",
              "      <td>hit:34_conv:69</td>\n",
              "      <td>4</td>\n",
              "      <td>contentment</td>\n",
              "      <td>My mother stopped by my house one day and said...</td>\n",
              "      <td>12.0</td>\n",
              "      <td>Yeah he was punished hes in jail still</td>\n",
              "      <td>5|5|5_3|2|2</td>\n",
              "      <td>NaN</td>\n",
              "    </tr>\n",
              "    <tr>\n",
              "      <th>9</th>\n",
              "      <td>hit:37_conv:74</td>\n",
              "      <td>1</td>\n",
              "      <td>contempt</td>\n",
              "      <td>I just broke up with my girlfriend_comma_ we w...</td>\n",
              "      <td>47.0</td>\n",
              "      <td>I there_comma_ dont know what to do_comma_ jst...</td>\n",
              "      <td>5|4|4_5|5|5</td>\n",
              "      <td>NaN</td>\n",
              "    </tr>\n",
              "  </tbody>\n",
              "</table>\n",
              "</div>"
            ],
            "text/plain": [
              "          conv_id utterance_idx  ...     selfeval tags\n",
              "0    hit:0_conv:0             1  ...  2|2|5_5|5|5  NaN\n",
              "1    hit:0_conv:0             2  ...  2|2|5_5|5|5  NaN\n",
              "2    hit:0_conv:0             3  ...  2|2|5_5|5|5  NaN\n",
              "3    hit:0_conv:0             4  ...  2|2|5_5|5|5  NaN\n",
              "4    hit:0_conv:0             5  ...  2|2|5_5|5|5  NaN\n",
              "5  hit:34_conv:69             1  ...  5|5|5_3|2|2  NaN\n",
              "6  hit:34_conv:69             2  ...  5|5|5_3|2|2  NaN\n",
              "7  hit:34_conv:69             3  ...  5|5|5_3|2|2  NaN\n",
              "8  hit:34_conv:69             4  ...  5|5|5_3|2|2  NaN\n",
              "9  hit:37_conv:74             1  ...  5|4|4_5|5|5  NaN\n",
              "\n",
              "[10 rows x 8 columns]"
            ]
          },
          "metadata": {
            "tags": []
          },
          "execution_count": 4
        }
      ]
    },
    {
      "cell_type": "code",
      "metadata": {
        "id": "MBRcbJ5z3nSB",
        "colab_type": "code",
        "outputId": "65b48e08-2c9b-49a8-f1f6-176d5510b48d",
        "colab": {
          "base_uri": "https://localhost:8080/",
          "height": 139
        }
      },
      "source": [
        "test.keys(), train.keys()"
      ],
      "execution_count": 0,
      "outputs": [
        {
          "output_type": "execute_result",
          "data": {
            "text/plain": [
              "(Index(['conv_id', 'utterance_idx', 'context', 'prompt', 'speaker_idx',\n",
              "        'utterance', 'selfeval', 'tags'],\n",
              "       dtype='object'),\n",
              " Index(['conv_id', 'utterance_idx', 'context', 'prompt', 'speaker_idx',\n",
              "        'utterance', 'selfeval', 'tags', 'Unnamed: 8', 'Unnamed: 9',\n",
              "        'Unnamed: 10'],\n",
              "       dtype='object'))"
            ]
          },
          "metadata": {
            "tags": []
          },
          "execution_count": 5
        }
      ]
    },
    {
      "cell_type": "code",
      "metadata": {
        "id": "iIoPBuLR3weI",
        "colab_type": "code",
        "outputId": "4f7785cf-6a78-4aef-e2af-9d9bc2ef0b94",
        "colab": {
          "base_uri": "https://localhost:8080/",
          "height": 363
        }
      },
      "source": [
        "del train['conv_id'], train['utterance_idx'], train['speaker_idx'], train['selfeval'], train['tags']\n",
        "del train['Unnamed: 8'], train['Unnamed: 9'], train['Unnamed: 10']\n",
        "train[:10]"
      ],
      "execution_count": 0,
      "outputs": [
        {
          "output_type": "execute_result",
          "data": {
            "text/html": [
              "<div>\n",
              "<style scoped>\n",
              "    .dataframe tbody tr th:only-of-type {\n",
              "        vertical-align: middle;\n",
              "    }\n",
              "\n",
              "    .dataframe tbody tr th {\n",
              "        vertical-align: top;\n",
              "    }\n",
              "\n",
              "    .dataframe thead th {\n",
              "        text-align: right;\n",
              "    }\n",
              "</style>\n",
              "<table border=\"1\" class=\"dataframe\">\n",
              "  <thead>\n",
              "    <tr style=\"text-align: right;\">\n",
              "      <th></th>\n",
              "      <th>context</th>\n",
              "      <th>prompt</th>\n",
              "      <th>utterance</th>\n",
              "    </tr>\n",
              "  </thead>\n",
              "  <tbody>\n",
              "    <tr>\n",
              "      <th>0</th>\n",
              "      <td>sadness</td>\n",
              "      <td>I remember going to the fireworks with my best...</td>\n",
              "      <td>I remember going to see the fireworks with my ...</td>\n",
              "    </tr>\n",
              "    <tr>\n",
              "      <th>1</th>\n",
              "      <td>sadness</td>\n",
              "      <td>I remember going to the fireworks with my best...</td>\n",
              "      <td>Was this a friend you were in love with_comma_...</td>\n",
              "    </tr>\n",
              "    <tr>\n",
              "      <th>2</th>\n",
              "      <td>sadness</td>\n",
              "      <td>I remember going to the fireworks with my best...</td>\n",
              "      <td>This was a best friend. I miss her.</td>\n",
              "    </tr>\n",
              "    <tr>\n",
              "      <th>3</th>\n",
              "      <td>sadness</td>\n",
              "      <td>I remember going to the fireworks with my best...</td>\n",
              "      <td>Where has she gone?</td>\n",
              "    </tr>\n",
              "    <tr>\n",
              "      <th>4</th>\n",
              "      <td>sadness</td>\n",
              "      <td>I remember going to the fireworks with my best...</td>\n",
              "      <td>We no longer talk.</td>\n",
              "    </tr>\n",
              "    <tr>\n",
              "      <th>5</th>\n",
              "      <td>sadness</td>\n",
              "      <td>I remember going to the fireworks with my best...</td>\n",
              "      <td>Oh was this something that happened because of...</td>\n",
              "    </tr>\n",
              "    <tr>\n",
              "      <th>6</th>\n",
              "      <td>fear</td>\n",
              "      <td>i used to scare for darkness</td>\n",
              "      <td>it feels like hitting to blank wall when i se...</td>\n",
              "    </tr>\n",
              "    <tr>\n",
              "      <th>7</th>\n",
              "      <td>fear</td>\n",
              "      <td>i used to scare for darkness</td>\n",
              "      <td>Oh ya? I don't really see how</td>\n",
              "    </tr>\n",
              "    <tr>\n",
              "      <th>8</th>\n",
              "      <td>fear</td>\n",
              "      <td>i used to scare for darkness</td>\n",
              "      <td>dont you feel so.. its a wonder</td>\n",
              "    </tr>\n",
              "    <tr>\n",
              "      <th>9</th>\n",
              "      <td>fear</td>\n",
              "      <td>i used to scare for darkness</td>\n",
              "      <td>I do actually hit blank walls a lot of times b...</td>\n",
              "    </tr>\n",
              "  </tbody>\n",
              "</table>\n",
              "</div>"
            ],
            "text/plain": [
              "   context  ...                                          utterance\n",
              "0  sadness  ...  I remember going to see the fireworks with my ...\n",
              "1  sadness  ...  Was this a friend you were in love with_comma_...\n",
              "2  sadness  ...                This was a best friend. I miss her.\n",
              "3  sadness  ...                                Where has she gone?\n",
              "4  sadness  ...                                 We no longer talk.\n",
              "5  sadness  ...  Oh was this something that happened because of...\n",
              "6     fear  ...   it feels like hitting to blank wall when i se...\n",
              "7     fear  ...                      Oh ya? I don't really see how\n",
              "8     fear  ...                   dont you feel so.. its a wonder \n",
              "9     fear  ...  I do actually hit blank walls a lot of times b...\n",
              "\n",
              "[10 rows x 3 columns]"
            ]
          },
          "metadata": {
            "tags": []
          },
          "execution_count": 6
        }
      ]
    },
    {
      "cell_type": "code",
      "metadata": {
        "colab_type": "code",
        "outputId": "219cdcc7-d0dd-47b7-a8bc-ddb9593eb27d",
        "id": "lLxjaqjR4vin",
        "colab": {
          "base_uri": "https://localhost:8080/",
          "height": 363
        }
      },
      "source": [
        "del test['conv_id'], test['utterance_idx'], test['speaker_idx'], test['selfeval'], test['tags']\n",
        "test[:10]"
      ],
      "execution_count": 0,
      "outputs": [
        {
          "output_type": "execute_result",
          "data": {
            "text/html": [
              "<div>\n",
              "<style scoped>\n",
              "    .dataframe tbody tr th:only-of-type {\n",
              "        vertical-align: middle;\n",
              "    }\n",
              "\n",
              "    .dataframe tbody tr th {\n",
              "        vertical-align: top;\n",
              "    }\n",
              "\n",
              "    .dataframe thead th {\n",
              "        text-align: right;\n",
              "    }\n",
              "</style>\n",
              "<table border=\"1\" class=\"dataframe\">\n",
              "  <thead>\n",
              "    <tr style=\"text-align: right;\">\n",
              "      <th></th>\n",
              "      <th>context</th>\n",
              "      <th>prompt</th>\n",
              "      <th>utterance</th>\n",
              "    </tr>\n",
              "  </thead>\n",
              "  <tbody>\n",
              "    <tr>\n",
              "      <th>0</th>\n",
              "      <td>disgust</td>\n",
              "      <td>I felt guilty when I was driving home one nigh...</td>\n",
              "      <td>Yeah about 10 years ago I had a horrifying exp...</td>\n",
              "    </tr>\n",
              "    <tr>\n",
              "      <th>1</th>\n",
              "      <td>disgust</td>\n",
              "      <td>I felt guilty when I was driving home one nigh...</td>\n",
              "      <td>Did you suffer any injuries?</td>\n",
              "    </tr>\n",
              "    <tr>\n",
              "      <th>2</th>\n",
              "      <td>disgust</td>\n",
              "      <td>I felt guilty when I was driving home one nigh...</td>\n",
              "      <td>No I wasn't hit. It turned out they were drunk...</td>\n",
              "    </tr>\n",
              "    <tr>\n",
              "      <th>3</th>\n",
              "      <td>disgust</td>\n",
              "      <td>I felt guilty when I was driving home one nigh...</td>\n",
              "      <td>Why did you feel guilty? People really shouldn...</td>\n",
              "    </tr>\n",
              "    <tr>\n",
              "      <th>4</th>\n",
              "      <td>disgust</td>\n",
              "      <td>I felt guilty when I was driving home one nigh...</td>\n",
              "      <td>I don't know I was new to driving and hadn't e...</td>\n",
              "    </tr>\n",
              "    <tr>\n",
              "      <th>5</th>\n",
              "      <td>contentment</td>\n",
              "      <td>My mother stopped by my house one day and said...</td>\n",
              "      <td>Well_comma_ can you tell me about your experie...</td>\n",
              "    </tr>\n",
              "    <tr>\n",
              "      <th>6</th>\n",
              "      <td>contentment</td>\n",
              "      <td>My mother stopped by my house one day and said...</td>\n",
              "      <td>Yeah i wanted to tell you about the time i was...</td>\n",
              "    </tr>\n",
              "    <tr>\n",
              "      <th>7</th>\n",
              "      <td>contentment</td>\n",
              "      <td>My mother stopped by my house one day and said...</td>\n",
              "      <td>Oh my goodness_comma_ that's very scary! I hop...</td>\n",
              "    </tr>\n",
              "    <tr>\n",
              "      <th>8</th>\n",
              "      <td>contentment</td>\n",
              "      <td>My mother stopped by my house one day and said...</td>\n",
              "      <td>Yeah he was punished hes in jail still</td>\n",
              "    </tr>\n",
              "    <tr>\n",
              "      <th>9</th>\n",
              "      <td>contempt</td>\n",
              "      <td>I just broke up with my girlfriend_comma_ we w...</td>\n",
              "      <td>I there_comma_ dont know what to do_comma_ jst...</td>\n",
              "    </tr>\n",
              "  </tbody>\n",
              "</table>\n",
              "</div>"
            ],
            "text/plain": [
              "       context  ...                                          utterance\n",
              "0      disgust  ...  Yeah about 10 years ago I had a horrifying exp...\n",
              "1      disgust  ...                       Did you suffer any injuries?\n",
              "2      disgust  ...  No I wasn't hit. It turned out they were drunk...\n",
              "3      disgust  ...  Why did you feel guilty? People really shouldn...\n",
              "4      disgust  ...  I don't know I was new to driving and hadn't e...\n",
              "5  contentment  ...  Well_comma_ can you tell me about your experie...\n",
              "6  contentment  ...  Yeah i wanted to tell you about the time i was...\n",
              "7  contentment  ...  Oh my goodness_comma_ that's very scary! I hop...\n",
              "8  contentment  ...             Yeah he was punished hes in jail still\n",
              "9     contempt  ...  I there_comma_ dont know what to do_comma_ jst...\n",
              "\n",
              "[10 rows x 3 columns]"
            ]
          },
          "metadata": {
            "tags": []
          },
          "execution_count": 7
        }
      ]
    },
    {
      "cell_type": "code",
      "metadata": {
        "id": "GECs3ZLH6j8n",
        "colab_type": "code",
        "colab": {}
      },
      "source": [
        "orig_train = train.copy()"
      ],
      "execution_count": 0,
      "outputs": []
    },
    {
      "cell_type": "code",
      "metadata": {
        "id": "R_yl5Nv0R6gu",
        "colab_type": "code",
        "outputId": "7b9eb41c-68d1-4a93-cf79-d583a88e2877",
        "colab": {
          "base_uri": "https://localhost:8080/",
          "height": 34
        }
      },
      "source": [
        "train = train.drop_duplicates(subset=('prompt'), keep='first', inplace=False)\n",
        "del train['utterance']\n",
        "len(train), len(orig_train)"
      ],
      "execution_count": 0,
      "outputs": [
        {
          "output_type": "execute_result",
          "data": {
            "text/plain": [
              "(18140, 79204)"
            ]
          },
          "metadata": {
            "tags": []
          },
          "execution_count": 9
        }
      ]
    },
    {
      "cell_type": "code",
      "metadata": {
        "id": "UJCW8Ngx6wo8",
        "colab_type": "code",
        "colab": {}
      },
      "source": [
        "orig_test = test.copy()"
      ],
      "execution_count": 0,
      "outputs": []
    },
    {
      "cell_type": "code",
      "metadata": {
        "id": "jOm8wa1o6aAL",
        "colab_type": "code",
        "outputId": "d0b4e7d9-3c16-4882-dd3a-60e41bdc78c7",
        "colab": {
          "base_uri": "https://localhost:8080/",
          "height": 34
        }
      },
      "source": [
        "test = test.drop_duplicates(subset=('prompt'), keep='first', inplace=False)\n",
        "del test['utterance']\n",
        "len(test), len(orig_test)"
      ],
      "execution_count": 0,
      "outputs": [
        {
          "output_type": "execute_result",
          "data": {
            "text/plain": [
              "(2494, 10754)"
            ]
          },
          "metadata": {
            "tags": []
          },
          "execution_count": 11
        }
      ]
    },
    {
      "cell_type": "code",
      "metadata": {
        "id": "AV-xydST7CEz",
        "colab_type": "code",
        "outputId": "fe8bb5b3-130e-444d-b598-b1a80b260fc8",
        "colab": {
          "base_uri": "https://localhost:8080/",
          "height": 72
        }
      },
      "source": [
        "unique = []\n",
        "for i in range(len(train)):\n",
        "    if train.iloc[i]['context'] not in unique:\n",
        "        unique.append(train.iloc[i]['context'])\n",
        "print(unique)\n",
        "print(len(unique))"
      ],
      "execution_count": 0,
      "outputs": [
        {
          "output_type": "stream",
          "text": [
            "['sadness', 'fear', 'pride in achievement', 'optimism', 'contentment', 'anger', 'contempt', 'satisfaction', 'disgust', 'amusement', \"oh no. o'm sorry to here that.\", nan, 'Did you call the police?', '296', \"I don't blame you. I don't know anything about Horses_comma_ but congrats on winning the bet\"]\n",
            "15\n"
          ],
          "name": "stdout"
        }
      ]
    },
    {
      "cell_type": "code",
      "metadata": {
        "id": "ZVo-EHtl7ffx",
        "colab_type": "code",
        "outputId": "3f0040b1-faa0-4d84-87a3-c4c28e35313f",
        "colab": {
          "base_uri": "https://localhost:8080/",
          "height": 72
        }
      },
      "source": [
        "print(unique)\n",
        "print(len(unique))"
      ],
      "execution_count": 0,
      "outputs": [
        {
          "output_type": "stream",
          "text": [
            "['sadness', 'fear', 'pride in achievement', 'optimism', 'contentment', 'anger', 'contempt', 'satisfaction', 'disgust', 'amusement', \"oh no. o'm sorry to here that.\", nan, 'Did you call the police?', '296', \"I don't blame you. I don't know anything about Horses_comma_ but congrats on winning the bet\"]\n",
            "15\n"
          ],
          "name": "stdout"
        }
      ]
    },
    {
      "cell_type": "code",
      "metadata": {
        "id": "NVNrWjpsNI_-",
        "colab_type": "code",
        "outputId": "92219d8e-1d5a-4e4d-94e8-3c22df1ef941",
        "colab": {
          "base_uri": "https://localhost:8080/",
          "height": 34
        }
      },
      "source": [
        "train = train.dropna()\n",
        "len(train)"
      ],
      "execution_count": 0,
      "outputs": [
        {
          "output_type": "execute_result",
          "data": {
            "text/plain": [
              "18139"
            ]
          },
          "metadata": {
            "tags": []
          },
          "execution_count": 14
        }
      ]
    },
    {
      "cell_type": "code",
      "metadata": {
        "id": "ueVnVjm48yfo",
        "colab_type": "code",
        "outputId": "eb495544-d8af-43f9-de12-2380702c85a4",
        "colab": {
          "base_uri": "https://localhost:8080/",
          "height": 363
        }
      },
      "source": [
        "train[:10]"
      ],
      "execution_count": 0,
      "outputs": [
        {
          "output_type": "execute_result",
          "data": {
            "text/html": [
              "<div>\n",
              "<style scoped>\n",
              "    .dataframe tbody tr th:only-of-type {\n",
              "        vertical-align: middle;\n",
              "    }\n",
              "\n",
              "    .dataframe tbody tr th {\n",
              "        vertical-align: top;\n",
              "    }\n",
              "\n",
              "    .dataframe thead th {\n",
              "        text-align: right;\n",
              "    }\n",
              "</style>\n",
              "<table border=\"1\" class=\"dataframe\">\n",
              "  <thead>\n",
              "    <tr style=\"text-align: right;\">\n",
              "      <th></th>\n",
              "      <th>context</th>\n",
              "      <th>prompt</th>\n",
              "    </tr>\n",
              "  </thead>\n",
              "  <tbody>\n",
              "    <tr>\n",
              "      <th>0</th>\n",
              "      <td>sadness</td>\n",
              "      <td>I remember going to the fireworks with my best...</td>\n",
              "    </tr>\n",
              "    <tr>\n",
              "      <th>6</th>\n",
              "      <td>fear</td>\n",
              "      <td>i used to scare for darkness</td>\n",
              "    </tr>\n",
              "    <tr>\n",
              "      <th>12</th>\n",
              "      <td>pride in achievement</td>\n",
              "      <td>I showed a guy how to run a good bead in weldi...</td>\n",
              "    </tr>\n",
              "    <tr>\n",
              "      <th>17</th>\n",
              "      <td>optimism</td>\n",
              "      <td>I have always been loyal to my wife.</td>\n",
              "    </tr>\n",
              "    <tr>\n",
              "      <th>21</th>\n",
              "      <td>fear</td>\n",
              "      <td>A recent job interview that I had made me feel...</td>\n",
              "    </tr>\n",
              "    <tr>\n",
              "      <th>26</th>\n",
              "      <td>contentment</td>\n",
              "      <td>I am very happy to have been first over 300 st...</td>\n",
              "    </tr>\n",
              "    <tr>\n",
              "      <th>30</th>\n",
              "      <td>anger</td>\n",
              "      <td>I once lost my job and got mad.</td>\n",
              "    </tr>\n",
              "    <tr>\n",
              "      <th>34</th>\n",
              "      <td>sadness</td>\n",
              "      <td>One year during christmas_comma_ i did not get...</td>\n",
              "    </tr>\n",
              "    <tr>\n",
              "      <th>39</th>\n",
              "      <td>contempt</td>\n",
              "      <td>I was at work_comma_ and my coworker was calle...</td>\n",
              "    </tr>\n",
              "    <tr>\n",
              "      <th>43</th>\n",
              "      <td>fear</td>\n",
              "      <td>I was home alone. I heard a loud noise come fr...</td>\n",
              "    </tr>\n",
              "  </tbody>\n",
              "</table>\n",
              "</div>"
            ],
            "text/plain": [
              "                 context                                             prompt\n",
              "0                sadness  I remember going to the fireworks with my best...\n",
              "6                   fear                       i used to scare for darkness\n",
              "12  pride in achievement  I showed a guy how to run a good bead in weldi...\n",
              "17              optimism               I have always been loyal to my wife.\n",
              "21                  fear  A recent job interview that I had made me feel...\n",
              "26           contentment  I am very happy to have been first over 300 st...\n",
              "30                 anger                    I once lost my job and got mad.\n",
              "34               sadness  One year during christmas_comma_ i did not get...\n",
              "39              contempt  I was at work_comma_ and my coworker was calle...\n",
              "43                  fear  I was home alone. I heard a loud noise come fr..."
            ]
          },
          "metadata": {
            "tags": []
          },
          "execution_count": 15
        }
      ]
    },
    {
      "cell_type": "code",
      "metadata": {
        "id": "vz1zE4y97vew",
        "colab_type": "code",
        "outputId": "4a821aa7-9fee-4af3-8508-f67ac960c7e1",
        "colab": {
          "base_uri": "https://localhost:8080/",
          "height": 156
        }
      },
      "source": [
        "print(train[train['context'] == unique[10]])\n",
        "print(train[train['context'] == unique[12]])\n",
        "print(train[train['context'] == unique[13]])\n",
        "print(train[train['context'] == unique[14]])"
      ],
      "execution_count": 0,
      "outputs": [
        {
          "output_type": "stream",
          "text": [
            "                             context       prompt\n",
            "4811  oh no. o'm sorry to here that.  5|5|5_5|5|5\n",
            "                       context       prompt\n",
            "6392  Did you call the police?  4|5|5_5|5|5\n",
            "     context                                             prompt\n",
            "7571     296  Yes people and pets. Too soon. So it definitel...\n",
            "                                                 context       prompt\n",
            "61943  I don't blame you. I don't know anything about...  5|5|5_4|4|4\n"
          ],
          "name": "stdout"
        }
      ]
    },
    {
      "cell_type": "code",
      "metadata": {
        "id": "wCrpl23W7-kf",
        "colab_type": "code",
        "colab": {}
      },
      "source": [
        "# del train[4811], train[6392], train[7571], train[61943]\n",
        "train = train.drop([4811,6392,7571,61943], axis=0)"
      ],
      "execution_count": 0,
      "outputs": []
    },
    {
      "cell_type": "code",
      "metadata": {
        "colab_type": "code",
        "outputId": "49344d61-e4c0-4a53-db44-79235f37f9bc",
        "id": "QhwlHvNf9aRh",
        "colab": {
          "base_uri": "https://localhost:8080/",
          "height": 52
        }
      },
      "source": [
        "test_unique = []\n",
        "for i in range(len(train)):\n",
        "    if train.iloc[i]['context'] not in test_unique:\n",
        "        test_unique.append(train.iloc[i]['context'])\n",
        "print(test_unique)\n",
        "print(len(test_unique))"
      ],
      "execution_count": 0,
      "outputs": [
        {
          "output_type": "stream",
          "text": [
            "['sadness', 'fear', 'pride in achievement', 'optimism', 'contentment', 'anger', 'contempt', 'satisfaction', 'disgust', 'amusement']\n",
            "10\n"
          ],
          "name": "stdout"
        }
      ]
    },
    {
      "cell_type": "code",
      "metadata": {
        "colab_type": "code",
        "outputId": "b0bc50c2-88d5-42c3-f378-9405b748e355",
        "id": "8IboTbof9aSY",
        "colab": {
          "base_uri": "https://localhost:8080/",
          "height": 34
        }
      },
      "source": [
        "test = test.dropna()\n",
        "len(test)"
      ],
      "execution_count": 0,
      "outputs": [
        {
          "output_type": "execute_result",
          "data": {
            "text/plain": [
              "2493"
            ]
          },
          "metadata": {
            "tags": []
          },
          "execution_count": 19
        }
      ]
    },
    {
      "cell_type": "code",
      "metadata": {
        "colab_type": "code",
        "outputId": "37864ab2-e8d4-4b9a-c574-dc9eebff3630",
        "id": "PH335otH9aSn",
        "colab": {
          "base_uri": "https://localhost:8080/",
          "height": 363
        }
      },
      "source": [
        "test[:10]"
      ],
      "execution_count": 0,
      "outputs": [
        {
          "output_type": "execute_result",
          "data": {
            "text/html": [
              "<div>\n",
              "<style scoped>\n",
              "    .dataframe tbody tr th:only-of-type {\n",
              "        vertical-align: middle;\n",
              "    }\n",
              "\n",
              "    .dataframe tbody tr th {\n",
              "        vertical-align: top;\n",
              "    }\n",
              "\n",
              "    .dataframe thead th {\n",
              "        text-align: right;\n",
              "    }\n",
              "</style>\n",
              "<table border=\"1\" class=\"dataframe\">\n",
              "  <thead>\n",
              "    <tr style=\"text-align: right;\">\n",
              "      <th></th>\n",
              "      <th>context</th>\n",
              "      <th>prompt</th>\n",
              "    </tr>\n",
              "  </thead>\n",
              "  <tbody>\n",
              "    <tr>\n",
              "      <th>0</th>\n",
              "      <td>disgust</td>\n",
              "      <td>I felt guilty when I was driving home one nigh...</td>\n",
              "    </tr>\n",
              "    <tr>\n",
              "      <th>5</th>\n",
              "      <td>contentment</td>\n",
              "      <td>My mother stopped by my house one day and said...</td>\n",
              "    </tr>\n",
              "    <tr>\n",
              "      <th>9</th>\n",
              "      <td>contempt</td>\n",
              "      <td>I just broke up with my girlfriend_comma_ we w...</td>\n",
              "    </tr>\n",
              "    <tr>\n",
              "      <th>13</th>\n",
              "      <td>amusement</td>\n",
              "      <td>I received concert tickets for Christmas.</td>\n",
              "    </tr>\n",
              "    <tr>\n",
              "      <th>17</th>\n",
              "      <td>sadness</td>\n",
              "      <td>i've read an article about a little newborn ba...</td>\n",
              "    </tr>\n",
              "    <tr>\n",
              "      <th>22</th>\n",
              "      <td>contentment</td>\n",
              "      <td>my friend's baby hurt himself yesterday i was ...</td>\n",
              "    </tr>\n",
              "    <tr>\n",
              "      <th>27</th>\n",
              "      <td>optimism</td>\n",
              "      <td>i really hope my husband finds a full time job...</td>\n",
              "    </tr>\n",
              "    <tr>\n",
              "      <th>32</th>\n",
              "      <td>anger</td>\n",
              "      <td>some guys shot my neighbour and ran into the w...</td>\n",
              "    </tr>\n",
              "    <tr>\n",
              "      <th>36</th>\n",
              "      <td>contentment</td>\n",
              "      <td>I'm going to see my parents soon!</td>\n",
              "    </tr>\n",
              "    <tr>\n",
              "      <th>40</th>\n",
              "      <td>anger</td>\n",
              "      <td>I felt very angry when a co-worker of mine pre...</td>\n",
              "    </tr>\n",
              "  </tbody>\n",
              "</table>\n",
              "</div>"
            ],
            "text/plain": [
              "        context                                             prompt\n",
              "0       disgust  I felt guilty when I was driving home one nigh...\n",
              "5   contentment  My mother stopped by my house one day and said...\n",
              "9      contempt  I just broke up with my girlfriend_comma_ we w...\n",
              "13    amusement          I received concert tickets for Christmas.\n",
              "17      sadness  i've read an article about a little newborn ba...\n",
              "22  contentment  my friend's baby hurt himself yesterday i was ...\n",
              "27     optimism  i really hope my husband finds a full time job...\n",
              "32        anger  some guys shot my neighbour and ran into the w...\n",
              "36  contentment                  I'm going to see my parents soon!\n",
              "40        anger  I felt very angry when a co-worker of mine pre..."
            ]
          },
          "metadata": {
            "tags": []
          },
          "execution_count": 20
        }
      ]
    },
    {
      "cell_type": "code",
      "metadata": {
        "id": "MFQ9Ugcj2kA6",
        "colab_type": "code",
        "outputId": "05a3d859-cb12-482e-d084-16d827f6e3f4",
        "colab": {
          "base_uri": "https://localhost:8080/",
          "height": 69
        }
      },
      "source": [
        "# import nltk\n",
        "# nltk.download(\"stopwords\")"
      ],
      "execution_count": 0,
      "outputs": [
        {
          "output_type": "stream",
          "text": [
            "[nltk_data] Downloading package stopwords to /root/nltk_data...\n",
            "[nltk_data]   Unzipping corpora/stopwords.zip.\n"
          ],
          "name": "stdout"
        },
        {
          "output_type": "execute_result",
          "data": {
            "text/plain": [
              "True"
            ]
          },
          "metadata": {
            "tags": []
          },
          "execution_count": 22
        }
      ]
    },
    {
      "cell_type": "code",
      "metadata": {
        "id": "AP1500HPTTQR",
        "colab_type": "code",
        "colab": {}
      },
      "source": [
        "stop_words_en = stopwords.words('english')\n",
        "def cleanText(raw_text, stopwords=False):\n",
        "    '''\n",
        "    Convert a raw review to a cleaned review\n",
        "    '''\n",
        "    text = BeautifulSoup(raw_text, 'html').get_text()  #remove html\n",
        "    letters_only = re.sub(\"[^a-zA-Z]\", \" \", text)  # remove non-character\n",
        "    words = letters_only.lower().split() # convert to lower case t\n",
        "\n",
        "    if stopwords:\n",
        "        words = [i for i in words if i not in stop_words_en]\n",
        "    \n",
        "    return( \" \".join(words))"
      ],
      "execution_count": 0,
      "outputs": []
    },
    {
      "cell_type": "code",
      "metadata": {
        "id": "OaXny_LHTWdu",
        "colab_type": "code",
        "colab": {}
      },
      "source": [
        "cleanTextvec = np.vectorize(cleanText)"
      ],
      "execution_count": 0,
      "outputs": []
    },
    {
      "cell_type": "code",
      "metadata": {
        "id": "qTBmLkNv-mcm",
        "colab_type": "code",
        "colab": {}
      },
      "source": [
        "filtered_train = train.copy()\n",
        "filtered_test = test.copy()"
      ],
      "execution_count": 0,
      "outputs": []
    },
    {
      "cell_type": "code",
      "metadata": {
        "id": "AaKK-QiugD6t",
        "colab_type": "code",
        "colab": {}
      },
      "source": [
        "train, test = filtered_train.copy(), filtered_test.copy()"
      ],
      "execution_count": 0,
      "outputs": []
    },
    {
      "cell_type": "code",
      "metadata": {
        "id": "aA-NDaxxUSGF",
        "colab_type": "code",
        "colab": {}
      },
      "source": [
        "train['prompt'] = cleanTextvec(train['prompt'], False)"
      ],
      "execution_count": 0,
      "outputs": []
    },
    {
      "cell_type": "code",
      "metadata": {
        "id": "V-AUfajnpPfF",
        "colab_type": "code",
        "outputId": "58ef0ce4-317e-4b84-accb-0c297a0b8093",
        "colab": {
          "base_uri": "https://localhost:8080/",
          "height": 363
        }
      },
      "source": [
        "train[:10]"
      ],
      "execution_count": 0,
      "outputs": [
        {
          "output_type": "execute_result",
          "data": {
            "text/html": [
              "<div>\n",
              "<style scoped>\n",
              "    .dataframe tbody tr th:only-of-type {\n",
              "        vertical-align: middle;\n",
              "    }\n",
              "\n",
              "    .dataframe tbody tr th {\n",
              "        vertical-align: top;\n",
              "    }\n",
              "\n",
              "    .dataframe thead th {\n",
              "        text-align: right;\n",
              "    }\n",
              "</style>\n",
              "<table border=\"1\" class=\"dataframe\">\n",
              "  <thead>\n",
              "    <tr style=\"text-align: right;\">\n",
              "      <th></th>\n",
              "      <th>context</th>\n",
              "      <th>prompt</th>\n",
              "    </tr>\n",
              "  </thead>\n",
              "  <tbody>\n",
              "    <tr>\n",
              "      <th>0</th>\n",
              "      <td>sadness</td>\n",
              "      <td>i remember going to the fireworks with my best...</td>\n",
              "    </tr>\n",
              "    <tr>\n",
              "      <th>6</th>\n",
              "      <td>fear</td>\n",
              "      <td>i used to scare for darkness</td>\n",
              "    </tr>\n",
              "    <tr>\n",
              "      <th>12</th>\n",
              "      <td>pride in achievement</td>\n",
              "      <td>i showed a guy how to run a good bead in weldi...</td>\n",
              "    </tr>\n",
              "    <tr>\n",
              "      <th>17</th>\n",
              "      <td>optimism</td>\n",
              "      <td>i have always been loyal to my wife</td>\n",
              "    </tr>\n",
              "    <tr>\n",
              "      <th>21</th>\n",
              "      <td>fear</td>\n",
              "      <td>a recent job interview that i had made me feel...</td>\n",
              "    </tr>\n",
              "    <tr>\n",
              "      <th>26</th>\n",
              "      <td>contentment</td>\n",
              "      <td>i am very happy to have been first over studen...</td>\n",
              "    </tr>\n",
              "    <tr>\n",
              "      <th>30</th>\n",
              "      <td>anger</td>\n",
              "      <td>i once lost my job and got mad</td>\n",
              "    </tr>\n",
              "    <tr>\n",
              "      <th>34</th>\n",
              "      <td>sadness</td>\n",
              "      <td>one year during christmas comma i did not get ...</td>\n",
              "    </tr>\n",
              "    <tr>\n",
              "      <th>39</th>\n",
              "      <td>contempt</td>\n",
              "      <td>i was at work comma and my coworker was called...</td>\n",
              "    </tr>\n",
              "    <tr>\n",
              "      <th>43</th>\n",
              "      <td>fear</td>\n",
              "      <td>i was home alone i heard a loud noise come fro...</td>\n",
              "    </tr>\n",
              "  </tbody>\n",
              "</table>\n",
              "</div>"
            ],
            "text/plain": [
              "                 context                                             prompt\n",
              "0                sadness  i remember going to the fireworks with my best...\n",
              "6                   fear                       i used to scare for darkness\n",
              "12  pride in achievement  i showed a guy how to run a good bead in weldi...\n",
              "17              optimism                i have always been loyal to my wife\n",
              "21                  fear  a recent job interview that i had made me feel...\n",
              "26           contentment  i am very happy to have been first over studen...\n",
              "30                 anger                     i once lost my job and got mad\n",
              "34               sadness  one year during christmas comma i did not get ...\n",
              "39              contempt  i was at work comma and my coworker was called...\n",
              "43                  fear  i was home alone i heard a loud noise come fro..."
            ]
          },
          "metadata": {
            "tags": []
          },
          "execution_count": 79
        }
      ]
    },
    {
      "cell_type": "code",
      "metadata": {
        "id": "assvhDxu_GMr",
        "colab_type": "code",
        "colab": {}
      },
      "source": [
        "test['prompt'] = cleanTextvec(test['prompt'], True)"
      ],
      "execution_count": 0,
      "outputs": []
    },
    {
      "cell_type": "code",
      "metadata": {
        "id": "ZV4bzPnR_KRu",
        "colab_type": "code",
        "outputId": "347fc310-1c2e-473a-d372-7a50d40c0384",
        "colab": {
          "base_uri": "https://localhost:8080/",
          "height": 363
        }
      },
      "source": [
        "test[:10]"
      ],
      "execution_count": 0,
      "outputs": [
        {
          "output_type": "execute_result",
          "data": {
            "text/html": [
              "<div>\n",
              "<style scoped>\n",
              "    .dataframe tbody tr th:only-of-type {\n",
              "        vertical-align: middle;\n",
              "    }\n",
              "\n",
              "    .dataframe tbody tr th {\n",
              "        vertical-align: top;\n",
              "    }\n",
              "\n",
              "    .dataframe thead th {\n",
              "        text-align: right;\n",
              "    }\n",
              "</style>\n",
              "<table border=\"1\" class=\"dataframe\">\n",
              "  <thead>\n",
              "    <tr style=\"text-align: right;\">\n",
              "      <th></th>\n",
              "      <th>context</th>\n",
              "      <th>prompt</th>\n",
              "    </tr>\n",
              "  </thead>\n",
              "  <tbody>\n",
              "    <tr>\n",
              "      <th>0</th>\n",
              "      <td>disgust</td>\n",
              "      <td>felt guilty driving home one night person trie...</td>\n",
              "    </tr>\n",
              "    <tr>\n",
              "      <th>5</th>\n",
              "      <td>contentment</td>\n",
              "      <td>mother stopped house one day said saw dogs roa...</td>\n",
              "    </tr>\n",
              "    <tr>\n",
              "      <th>9</th>\n",
              "      <td>contempt</td>\n",
              "      <td>broke girlfriend comma together years comma fe...</td>\n",
              "    </tr>\n",
              "    <tr>\n",
              "      <th>13</th>\n",
              "      <td>amusement</td>\n",
              "      <td>received concert tickets christmas</td>\n",
              "    </tr>\n",
              "    <tr>\n",
              "      <th>17</th>\n",
              "      <td>sadness</td>\n",
              "      <td>read article little newborn babygirl died prem...</td>\n",
              "    </tr>\n",
              "    <tr>\n",
              "      <th>22</th>\n",
              "      <td>contentment</td>\n",
              "      <td>friend baby hurt yesterday trying cheer</td>\n",
              "    </tr>\n",
              "    <tr>\n",
              "      <th>27</th>\n",
              "      <td>optimism</td>\n",
              "      <td>really hope husband finds full time job soon</td>\n",
              "    </tr>\n",
              "    <tr>\n",
              "      <th>32</th>\n",
              "      <td>anger</td>\n",
              "      <td>guys shot neighbour ran woods</td>\n",
              "    </tr>\n",
              "    <tr>\n",
              "      <th>36</th>\n",
              "      <td>contentment</td>\n",
              "      <td>going see parents soon</td>\n",
              "    </tr>\n",
              "    <tr>\n",
              "      <th>40</th>\n",
              "      <td>anger</td>\n",
              "      <td>felt angry co worker mine pretended car accide...</td>\n",
              "    </tr>\n",
              "  </tbody>\n",
              "</table>\n",
              "</div>"
            ],
            "text/plain": [
              "        context                                             prompt\n",
              "0       disgust  felt guilty driving home one night person trie...\n",
              "5   contentment  mother stopped house one day said saw dogs roa...\n",
              "9      contempt  broke girlfriend comma together years comma fe...\n",
              "13    amusement                 received concert tickets christmas\n",
              "17      sadness  read article little newborn babygirl died prem...\n",
              "22  contentment            friend baby hurt yesterday trying cheer\n",
              "27     optimism       really hope husband finds full time job soon\n",
              "32        anger                      guys shot neighbour ran woods\n",
              "36  contentment                             going see parents soon\n",
              "40        anger  felt angry co worker mine pretended car accide..."
            ]
          },
          "metadata": {
            "tags": []
          },
          "execution_count": 81
        }
      ]
    },
    {
      "cell_type": "code",
      "metadata": {
        "id": "86vtU7by_S3E",
        "colab_type": "code",
        "outputId": "1c0a12e4-712a-4c07-9646-13159cfead4a",
        "colab": {
          "base_uri": "https://localhost:8080/",
          "height": 191
        }
      },
      "source": [
        "test_unique"
      ],
      "execution_count": 0,
      "outputs": [
        {
          "output_type": "execute_result",
          "data": {
            "text/plain": [
              "['sadness',\n",
              " 'fear',\n",
              " 'pride in achievement',\n",
              " 'optimism',\n",
              " 'contentment',\n",
              " 'anger',\n",
              " 'contempt',\n",
              " 'satisfaction',\n",
              " 'disgust',\n",
              " 'amusement']"
            ]
          },
          "metadata": {
            "tags": []
          },
          "execution_count": 82
        }
      ]
    },
    {
      "cell_type": "code",
      "metadata": {
        "id": "FRUAaUWj_Pvk",
        "colab_type": "code",
        "outputId": "11286434-5121-4792-a5d7-f20f9bcefcc3",
        "colab": {
          "base_uri": "https://localhost:8080/",
          "height": 191
        }
      },
      "source": [
        "emodict = {'amusement':0, 'satisfaction':1, 'optimism':2, 'pride in achievement':3, 'contentment':4,\n",
        "           'anger':5, 'fear':6, 'disgust':7, 'sadness':8, 'contempt':9}\n",
        "for i in test_unique:\n",
        "    print(i, emodict[i])"
      ],
      "execution_count": 0,
      "outputs": [
        {
          "output_type": "stream",
          "text": [
            "sadness 8\n",
            "fear 6\n",
            "pride in achievement 3\n",
            "optimism 2\n",
            "contentment 4\n",
            "anger 5\n",
            "contempt 9\n",
            "satisfaction 1\n",
            "disgust 7\n",
            "amusement 0\n"
          ],
          "name": "stdout"
        }
      ]
    },
    {
      "cell_type": "code",
      "metadata": {
        "id": "ZsBlQSxG_02v",
        "colab_type": "code",
        "colab": {}
      },
      "source": [
        "train['Rating'] = 0\n",
        "test['Rating'] = 0"
      ],
      "execution_count": 0,
      "outputs": []
    },
    {
      "cell_type": "code",
      "metadata": {
        "id": "8pLaKvgNVVGA",
        "colab_type": "code",
        "outputId": "dcd4d0ed-bdfc-48c9-a82a-ee3e9b986650",
        "colab": {
          "base_uri": "https://localhost:8080/",
          "height": 450
        }
      },
      "source": [
        "for emotion in emodict:\n",
        "    train['Rating'][train['context']==emotion] = emodict[emotion]\n",
        "train[:10]"
      ],
      "execution_count": 0,
      "outputs": [
        {
          "output_type": "stream",
          "text": [
            "/usr/local/lib/python3.6/dist-packages/ipykernel_launcher.py:2: SettingWithCopyWarning: \n",
            "A value is trying to be set on a copy of a slice from a DataFrame\n",
            "\n",
            "See the caveats in the documentation: http://pandas.pydata.org/pandas-docs/stable/user_guide/indexing.html#returning-a-view-versus-a-copy\n",
            "  \n"
          ],
          "name": "stderr"
        },
        {
          "output_type": "execute_result",
          "data": {
            "text/html": [
              "<div>\n",
              "<style scoped>\n",
              "    .dataframe tbody tr th:only-of-type {\n",
              "        vertical-align: middle;\n",
              "    }\n",
              "\n",
              "    .dataframe tbody tr th {\n",
              "        vertical-align: top;\n",
              "    }\n",
              "\n",
              "    .dataframe thead th {\n",
              "        text-align: right;\n",
              "    }\n",
              "</style>\n",
              "<table border=\"1\" class=\"dataframe\">\n",
              "  <thead>\n",
              "    <tr style=\"text-align: right;\">\n",
              "      <th></th>\n",
              "      <th>context</th>\n",
              "      <th>prompt</th>\n",
              "      <th>Rating</th>\n",
              "    </tr>\n",
              "  </thead>\n",
              "  <tbody>\n",
              "    <tr>\n",
              "      <th>0</th>\n",
              "      <td>sadness</td>\n",
              "      <td>i remember going to the fireworks with my best...</td>\n",
              "      <td>8</td>\n",
              "    </tr>\n",
              "    <tr>\n",
              "      <th>6</th>\n",
              "      <td>fear</td>\n",
              "      <td>i used to scare for darkness</td>\n",
              "      <td>6</td>\n",
              "    </tr>\n",
              "    <tr>\n",
              "      <th>12</th>\n",
              "      <td>pride in achievement</td>\n",
              "      <td>i showed a guy how to run a good bead in weldi...</td>\n",
              "      <td>3</td>\n",
              "    </tr>\n",
              "    <tr>\n",
              "      <th>17</th>\n",
              "      <td>optimism</td>\n",
              "      <td>i have always been loyal to my wife</td>\n",
              "      <td>2</td>\n",
              "    </tr>\n",
              "    <tr>\n",
              "      <th>21</th>\n",
              "      <td>fear</td>\n",
              "      <td>a recent job interview that i had made me feel...</td>\n",
              "      <td>6</td>\n",
              "    </tr>\n",
              "    <tr>\n",
              "      <th>26</th>\n",
              "      <td>contentment</td>\n",
              "      <td>i am very happy to have been first over studen...</td>\n",
              "      <td>4</td>\n",
              "    </tr>\n",
              "    <tr>\n",
              "      <th>30</th>\n",
              "      <td>anger</td>\n",
              "      <td>i once lost my job and got mad</td>\n",
              "      <td>5</td>\n",
              "    </tr>\n",
              "    <tr>\n",
              "      <th>34</th>\n",
              "      <td>sadness</td>\n",
              "      <td>one year during christmas comma i did not get ...</td>\n",
              "      <td>8</td>\n",
              "    </tr>\n",
              "    <tr>\n",
              "      <th>39</th>\n",
              "      <td>contempt</td>\n",
              "      <td>i was at work comma and my coworker was called...</td>\n",
              "      <td>9</td>\n",
              "    </tr>\n",
              "    <tr>\n",
              "      <th>43</th>\n",
              "      <td>fear</td>\n",
              "      <td>i was home alone i heard a loud noise come fro...</td>\n",
              "      <td>6</td>\n",
              "    </tr>\n",
              "  </tbody>\n",
              "</table>\n",
              "</div>"
            ],
            "text/plain": [
              "                 context  ... Rating\n",
              "0                sadness  ...      8\n",
              "6                   fear  ...      6\n",
              "12  pride in achievement  ...      3\n",
              "17              optimism  ...      2\n",
              "21                  fear  ...      6\n",
              "26           contentment  ...      4\n",
              "30                 anger  ...      5\n",
              "34               sadness  ...      8\n",
              "39              contempt  ...      9\n",
              "43                  fear  ...      6\n",
              "\n",
              "[10 rows x 3 columns]"
            ]
          },
          "metadata": {
            "tags": []
          },
          "execution_count": 85
        }
      ]
    },
    {
      "cell_type": "code",
      "metadata": {
        "id": "p8gw_PuGAPXY",
        "colab_type": "code",
        "outputId": "0bb23319-bbdc-4a45-ae37-52b55eb2f997",
        "colab": {
          "base_uri": "https://localhost:8080/",
          "height": 450
        }
      },
      "source": [
        "for emotion in emodict:\n",
        "    test['Rating'][test['context']==emotion] = emodict[emotion]\n",
        "test[:10]"
      ],
      "execution_count": 0,
      "outputs": [
        {
          "output_type": "stream",
          "text": [
            "/usr/local/lib/python3.6/dist-packages/ipykernel_launcher.py:2: SettingWithCopyWarning: \n",
            "A value is trying to be set on a copy of a slice from a DataFrame\n",
            "\n",
            "See the caveats in the documentation: http://pandas.pydata.org/pandas-docs/stable/user_guide/indexing.html#returning-a-view-versus-a-copy\n",
            "  \n"
          ],
          "name": "stderr"
        },
        {
          "output_type": "execute_result",
          "data": {
            "text/html": [
              "<div>\n",
              "<style scoped>\n",
              "    .dataframe tbody tr th:only-of-type {\n",
              "        vertical-align: middle;\n",
              "    }\n",
              "\n",
              "    .dataframe tbody tr th {\n",
              "        vertical-align: top;\n",
              "    }\n",
              "\n",
              "    .dataframe thead th {\n",
              "        text-align: right;\n",
              "    }\n",
              "</style>\n",
              "<table border=\"1\" class=\"dataframe\">\n",
              "  <thead>\n",
              "    <tr style=\"text-align: right;\">\n",
              "      <th></th>\n",
              "      <th>context</th>\n",
              "      <th>prompt</th>\n",
              "      <th>Rating</th>\n",
              "    </tr>\n",
              "  </thead>\n",
              "  <tbody>\n",
              "    <tr>\n",
              "      <th>0</th>\n",
              "      <td>disgust</td>\n",
              "      <td>felt guilty driving home one night person trie...</td>\n",
              "      <td>7</td>\n",
              "    </tr>\n",
              "    <tr>\n",
              "      <th>5</th>\n",
              "      <td>contentment</td>\n",
              "      <td>mother stopped house one day said saw dogs roa...</td>\n",
              "      <td>4</td>\n",
              "    </tr>\n",
              "    <tr>\n",
              "      <th>9</th>\n",
              "      <td>contempt</td>\n",
              "      <td>broke girlfriend comma together years comma fe...</td>\n",
              "      <td>9</td>\n",
              "    </tr>\n",
              "    <tr>\n",
              "      <th>13</th>\n",
              "      <td>amusement</td>\n",
              "      <td>received concert tickets christmas</td>\n",
              "      <td>0</td>\n",
              "    </tr>\n",
              "    <tr>\n",
              "      <th>17</th>\n",
              "      <td>sadness</td>\n",
              "      <td>read article little newborn babygirl died prem...</td>\n",
              "      <td>8</td>\n",
              "    </tr>\n",
              "    <tr>\n",
              "      <th>22</th>\n",
              "      <td>contentment</td>\n",
              "      <td>friend baby hurt yesterday trying cheer</td>\n",
              "      <td>4</td>\n",
              "    </tr>\n",
              "    <tr>\n",
              "      <th>27</th>\n",
              "      <td>optimism</td>\n",
              "      <td>really hope husband finds full time job soon</td>\n",
              "      <td>2</td>\n",
              "    </tr>\n",
              "    <tr>\n",
              "      <th>32</th>\n",
              "      <td>anger</td>\n",
              "      <td>guys shot neighbour ran woods</td>\n",
              "      <td>5</td>\n",
              "    </tr>\n",
              "    <tr>\n",
              "      <th>36</th>\n",
              "      <td>contentment</td>\n",
              "      <td>going see parents soon</td>\n",
              "      <td>4</td>\n",
              "    </tr>\n",
              "    <tr>\n",
              "      <th>40</th>\n",
              "      <td>anger</td>\n",
              "      <td>felt angry co worker mine pretended car accide...</td>\n",
              "      <td>5</td>\n",
              "    </tr>\n",
              "  </tbody>\n",
              "</table>\n",
              "</div>"
            ],
            "text/plain": [
              "        context                                             prompt  Rating\n",
              "0       disgust  felt guilty driving home one night person trie...       7\n",
              "5   contentment  mother stopped house one day said saw dogs roa...       4\n",
              "9      contempt  broke girlfriend comma together years comma fe...       9\n",
              "13    amusement                 received concert tickets christmas       0\n",
              "17      sadness  read article little newborn babygirl died prem...       8\n",
              "22  contentment            friend baby hurt yesterday trying cheer       4\n",
              "27     optimism       really hope husband finds full time job soon       2\n",
              "32        anger                      guys shot neighbour ran woods       5\n",
              "36  contentment                             going see parents soon       4\n",
              "40        anger  felt angry co worker mine pretended car accide...       5"
            ]
          },
          "metadata": {
            "tags": []
          },
          "execution_count": 86
        }
      ]
    },
    {
      "cell_type": "code",
      "metadata": {
        "id": "JYcVWXe1AXgi",
        "colab_type": "code",
        "colab": {}
      },
      "source": [
        "# train.to_csv(datapath + 'train_cleaned_stop_emotion.csv')\n",
        "# test.to_csv(datapath + 'test_cleaned_stop_emotion.csv')"
      ],
      "execution_count": 0,
      "outputs": []
    },
    {
      "cell_type": "code",
      "metadata": {
        "id": "1MiJcUn9A4rC",
        "colab_type": "code",
        "colab": {}
      },
      "source": [
        "# train_without_split = train.copy()\n",
        "# train = train_without_split.copy()"
      ],
      "execution_count": 0,
      "outputs": []
    },
    {
      "cell_type": "code",
      "metadata": {
        "id": "VQkPoxYjBGjL",
        "colab_type": "code",
        "colab": {}
      },
      "source": [
        "del train['context'], test['context']"
      ],
      "execution_count": 0,
      "outputs": []
    },
    {
      "cell_type": "code",
      "metadata": {
        "id": "EFvZcbo1W5yH",
        "colab_type": "code",
        "colab": {}
      },
      "source": [
        "max_features = 20000\n",
        "EMBEDDING_DIM = 100\n",
        "VALIDATION_SPLIT = 0.2\n",
        "maxlen = 1000\n",
        "batch_size = 128\n",
        "nb_classes = 10"
      ],
      "execution_count": 0,
      "outputs": []
    },
    {
      "cell_type": "code",
      "metadata": {
        "id": "knPM4-nfuryI",
        "colab_type": "code",
        "colab": {}
      },
      "source": [
        "# train, test = train_test_split(data, test_size = 0.2, random_state = 42)\n",
        "# train, val = train_test_split(train, test_size = 0.1, random_state = 42)\n",
        "y_train = np.array(train['Rating'])\n",
        "# y_val = np.array(val['Rating'])\n",
        "y_test = np.array(test['Rating'])"
      ],
      "execution_count": 0,
      "outputs": []
    },
    {
      "cell_type": "code",
      "metadata": {
        "id": "C9dfEBAavECu",
        "colab_type": "code",
        "outputId": "a8afbfc8-8d36-4505-8414-fc9939eeaac9",
        "colab": {
          "base_uri": "https://localhost:8080/",
          "height": 52
        }
      },
      "source": [
        "print(train.shape)\n",
        "# print(val.shape)\n",
        "print(test.shape)"
      ],
      "execution_count": 0,
      "outputs": [
        {
          "output_type": "stream",
          "text": [
            "(18135, 2)\n",
            "(2493, 2)\n"
          ],
          "name": "stdout"
        }
      ]
    },
    {
      "cell_type": "code",
      "metadata": {
        "id": "Lg8MrOtn5Lcp",
        "colab_type": "code",
        "colab": {}
      },
      "source": [
        "train.to_csv(datapath + \"akhilesh_train_emotion.csv\", index=False)\n",
        "test.to_csv(datapath + \"akhilesh_test_emotion.csv\", index=False)\n",
        "val.to_csv(datapath + \"akhilesh_val_emotion.csv\", index=False)"
      ],
      "execution_count": 0,
      "outputs": []
    },
    {
      "cell_type": "code",
      "metadata": {
        "id": "9Pi2uTDL3W6i",
        "colab_type": "code",
        "outputId": "84fb3271-5963-4929-88a3-2f6fba46ab12",
        "colab": {
          "base_uri": "https://localhost:8080/",
          "height": 34
        }
      },
      "source": [
        "len(train[\"prompt\"])"
      ],
      "execution_count": 0,
      "outputs": [
        {
          "output_type": "execute_result",
          "data": {
            "text/plain": [
              "18135"
            ]
          },
          "metadata": {
            "tags": []
          },
          "execution_count": 91
        }
      ]
    },
    {
      "cell_type": "code",
      "metadata": {
        "id": "FO9sL72da5Bm",
        "colab_type": "code",
        "outputId": "2b4ad620-5463-419b-a08b-d6411365189f",
        "colab": {
          "base_uri": "https://localhost:8080/",
          "height": 52
        }
      },
      "source": [
        "tokenizer = Tokenizer(nb_words=max_features)\n",
        "tokenizer.fit_on_texts(train['prompt'])\n",
        "f = open(datapath + 'akhilesh_normal_tokenizer_prompts.dat', 'wb')\n",
        "p.dump(tokenizer, f)\n",
        "f.close()"
      ],
      "execution_count": 0,
      "outputs": [
        {
          "output_type": "stream",
          "text": [
            "/usr/local/lib/python3.6/dist-packages/keras_preprocessing/text.py:178: UserWarning: The `nb_words` argument in `Tokenizer` has been renamed `num_words`.\n",
            "  warnings.warn('The `nb_words` argument in `Tokenizer` '\n"
          ],
          "name": "stderr"
        }
      ]
    },
    {
      "cell_type": "code",
      "metadata": {
        "id": "3f0jOX3x3IUe",
        "colab_type": "code",
        "colab": {}
      },
      "source": [
        "# f = open(datapath + 'tokenizer_clean_large.dat', 'rb')\n",
        "# tokenizer=p.load(f)\n",
        "# f.close()"
      ],
      "execution_count": 0,
      "outputs": []
    },
    {
      "cell_type": "code",
      "metadata": {
        "id": "QerFhWq_uwse",
        "colab_type": "code",
        "outputId": "971e7ae6-a8a9-4bf8-dc77-365387a07134",
        "colab": {
          "base_uri": "https://localhost:8080/",
          "height": 69
        }
      },
      "source": [
        "# vectorize the text samples into a 2D integer tensor\n",
        "\n",
        "sequences_train = tokenizer.texts_to_sequences(train['prompt'])\n",
        "# sequences_val = tokenizer.texts_to_sequences(val['prompt'])\n",
        "sequences_test = tokenizer.texts_to_sequences(test['prompt'])\n",
        "\n",
        "\n",
        "print('Pad sequences (samples x time)')\n",
        "X_train = sequence.pad_sequences(sequences_train, maxlen=maxlen)\n",
        "# X_val = sequence.pad_sequences(sequences_val, maxlen=maxlen)\n",
        "X_test = sequence.pad_sequences(sequences_test, maxlen=maxlen)\n",
        "\n",
        "\n",
        "Y_train = np_utils.to_categorical(y_train, nb_classes)\n",
        "# Y_val = np_utils.to_categorical(y_val, nb_classes)\n",
        "Y_test = np_utils.to_categorical(y_test, nb_classes)\n",
        "\n",
        "\n",
        "\n",
        "print('X_train_without shape:', X_train.shape)\n",
        "# print('X_train_without shape:', X_val.shape)\n",
        "print('X_test_without shape:', X_test.shape)"
      ],
      "execution_count": 0,
      "outputs": [
        {
          "output_type": "stream",
          "text": [
            "Pad sequences (samples x time)\n",
            "X_train_without shape: (18135, 1000)\n",
            "X_test_without shape: (2493, 1000)\n"
          ],
          "name": "stdout"
        }
      ]
    },
    {
      "cell_type": "code",
      "metadata": {
        "id": "Tt9z6lYPbtyQ",
        "colab_type": "code",
        "colab": {}
      },
      "source": [
        "from keras.layers.convolutional import Convolution1D\n",
        "from keras import backend as K\n",
        "from keras.models import load_model\n",
        "from keras.callbacks import ModelCheckpoint"
      ],
      "execution_count": 0,
      "outputs": []
    },
    {
      "cell_type": "code",
      "metadata": {
        "id": "5B5VNIqoU_vx",
        "colab_type": "code",
        "colab": {}
      },
      "source": [
        "from sklearn.tree import DecisionTreeClassifier\n",
        "from sklearn.metrics import accuracy_score\n",
        "from sklearn.metrics import roc_auc_score\n",
        "from sklearn.model_selection import cross_val_score"
      ],
      "execution_count": 0,
      "outputs": []
    },
    {
      "cell_type": "code",
      "metadata": {
        "id": "rbkIEptsRs6C",
        "colab_type": "code",
        "colab": {}
      },
      "source": [
        "from sklearn.metrics import accuracy_score, classification_report, confusion_matrix"
      ],
      "execution_count": 0,
      "outputs": []
    },
    {
      "cell_type": "code",
      "metadata": {
        "id": "6NT1JjSyNIjt",
        "colab_type": "code",
        "colab": {}
      },
      "source": [
        "def max_1d(X):\n",
        "    return K.max(X, axis=1)"
      ],
      "execution_count": 0,
      "outputs": []
    },
    {
      "cell_type": "code",
      "metadata": {
        "id": "3iQKhMQlYxYj",
        "colab_type": "code",
        "colab": {}
      },
      "source": [
        "from keras.layers.normalization import BatchNormalization\n",
        "from keras.layers import SpatialDropout1D"
      ],
      "execution_count": 0,
      "outputs": []
    },
    {
      "cell_type": "code",
      "metadata": {
        "id": "ofwktUI0qFnZ",
        "colab_type": "code",
        "colab": {}
      },
      "source": [
        "from keras.layers.normalization import BatchNormalization\n",
        "from keras.layers import SpatialDropout1D\n",
        "from keras.models import Model\n",
        "from keras.layers import Input,Flatten, Dense, Embedding, RNN, Conv1D, BatchNormalization, MaxPooling1D, Activation, Dropout, concatenate, Lambda\n",
        "from keras import optimizers"
      ],
      "execution_count": 0,
      "outputs": []
    },
    {
      "cell_type": "markdown",
      "metadata": {
        "id": "meiCRgexQYZ4",
        "colab_type": "text"
      },
      "source": [
        "#CNN"
      ]
    },
    {
      "cell_type": "code",
      "metadata": {
        "id": "yO3xh8ShTDH_",
        "colab_type": "code",
        "outputId": "5c40d448-de00-469f-80da-939f6da1e6fa",
        "colab": {
          "base_uri": "https://localhost:8080/",
          "height": 523
        }
      },
      "source": [
        "\n",
        "nb_filter = 300\n",
        "filter_length = 3\n",
        "hidden_dims = 300 # 250\n",
        "nb_epoch = 2\n",
        "\n",
        "# nb_filter *= 2\n",
        "\n",
        "print('Build model...')\n",
        "cmodel1 = Sequential()\n",
        "cmodel1.add(Embedding(max_features, 1000))\n",
        "cmodel1.add(SpatialDropout1D(0.2))\n",
        "# we add a Convolution1D, which will learn nb_filter\n",
        "# word group filters of size filter_length:\n",
        "cmodel1.add(Convolution1D(nb_filter=nb_filter,\n",
        "                       filter_length=filter_length,\n",
        "                       border_mode='valid',\n",
        "                       activation='tanh',\n",
        "                       subsample_length=1))\n",
        "\n",
        "#cmodel1.add(BatchNormalization())\n",
        "from keras import optimizers\n",
        "def max_1d(X):\n",
        "    return K.max(X, axis=1)\n",
        "\n",
        "cmodel1.add(Lambda(max_1d, output_shape=(nb_filter,)))\n",
        "cmodel1.add(Dense(hidden_dims))\n",
        "cmodel1.add(Dropout(0.2))\n",
        "cmodel1.add(Activation('relu'))\n",
        "cmodel1.add(Dense(nb_classes))\n",
        "cmodel1.add(Activation('sigmoid'))\n",
        "adam = optimizers.Adam(lr=0.001, decay=1e-6)\n",
        "cmodel1.compile(loss='binary_crossentropy',\n",
        "             optimizer=adam,\n",
        "             metrics=['accuracy'])\n",
        "\n",
        "\n",
        "cmodel1.summary()\n"
      ],
      "execution_count": 0,
      "outputs": [
        {
          "output_type": "stream",
          "text": [
            "Build model...\n",
            "Model: \"sequential_5\"\n",
            "_________________________________________________________________\n",
            "Layer (type)                 Output Shape              Param #   \n",
            "=================================================================\n",
            "embedding_5 (Embedding)      (None, None, 1000)        20000000  \n",
            "_________________________________________________________________\n",
            "spatial_dropout1d_5 (Spatial (None, None, 1000)        0         \n",
            "_________________________________________________________________\n",
            "conv1d_5 (Conv1D)            (None, None, 300)         900300    \n",
            "_________________________________________________________________\n",
            "lambda_5 (Lambda)            (None, 300)               0         \n",
            "_________________________________________________________________\n",
            "dense_9 (Dense)              (None, 300)               90300     \n",
            "_________________________________________________________________\n",
            "dropout_5 (Dropout)          (None, 300)               0         \n",
            "_________________________________________________________________\n",
            "activation_9 (Activation)    (None, 300)               0         \n",
            "_________________________________________________________________\n",
            "dense_10 (Dense)             (None, 10)                3010      \n",
            "_________________________________________________________________\n",
            "activation_10 (Activation)   (None, 10)                0         \n",
            "=================================================================\n",
            "Total params: 20,993,610\n",
            "Trainable params: 20,993,610\n",
            "Non-trainable params: 0\n",
            "_________________________________________________________________\n"
          ],
          "name": "stdout"
        },
        {
          "output_type": "stream",
          "text": [
            "/usr/local/lib/python3.6/dist-packages/ipykernel_launcher.py:19: UserWarning: Update your `Conv1D` call to the Keras 2 API: `Conv1D(activation=\"tanh\", filters=300, kernel_size=3, strides=1, padding=\"valid\")`\n"
          ],
          "name": "stderr"
        }
      ]
    },
    {
      "cell_type": "code",
      "metadata": {
        "id": "UwtzaI1DG41Q",
        "colab_type": "code",
        "outputId": "a0e1a451-1f12-420c-ca05-8fe8ed866695",
        "colab": {
          "base_uri": "https://localhost:8080/",
          "height": 121
        }
      },
      "source": [
        "print('Train...')\n",
        "cmodel1.fit(X_train, Y_train, batch_size=batch_size, epochs=1,)\n",
        "        #  validation_data=(X_val, Y_val))\n",
        "score, acc = cmodel1.evaluate(X_test, Y_test,\n",
        "                           batch_size=batch_size)\n",
        "print('Test score:', score)\n",
        "print('Test accuracy:', acc)"
      ],
      "execution_count": 0,
      "outputs": [
        {
          "output_type": "stream",
          "text": [
            "Train...\n",
            "Epoch 1/1\n",
            "18135/18135 [==============================] - 22s 1ms/step - loss: 0.1132 - acc: 0.9580\n",
            "2493/2493 [==============================] - 1s 253us/step\n",
            "Test score: 0.23123532408124417\n",
            "Test accuracy: 0.922262329319802\n"
          ],
          "name": "stdout"
        }
      ]
    },
    {
      "cell_type": "code",
      "metadata": {
        "id": "U5IJdFIGfq41",
        "colab_type": "code",
        "outputId": "f6b4000c-3664-4474-ebf0-b3e11606de50",
        "colab": {
          "base_uri": "https://localhost:8080/",
          "height": 34
        }
      },
      "source": [
        "# val_preds = cmodel1.predict_classes(X_val, verbose=0)\n",
        "preds3 = cmodel1.predict_classes(X_test, verbose=0)\n",
        "# print('Validation micro accuracy: ', accuracy_score(val['Rating'], val_preds) * 100)\n",
        "print('Test micro accuracy: ', accuracy_score(test['Rating'], preds3) * 100)"
      ],
      "execution_count": 0,
      "outputs": [
        {
          "output_type": "stream",
          "text": [
            "Test micro accuracy:  55.43521861211392\n"
          ],
          "name": "stdout"
        }
      ]
    },
    {
      "cell_type": "code",
      "metadata": {
        "id": "rUQnmB5RDSdO",
        "colab_type": "code",
        "outputId": "f6814427-09ed-427b-934d-d41fda1efdbd",
        "colab": {
          "base_uri": "https://localhost:8080/",
          "height": 34
        }
      },
      "source": [
        "# s = 0\n",
        "# for i in range(10):\n",
        "#     s += accuracy_score(val[val['Rating']==i]['Rating'], val_preds[val['Rating']==i])\n",
        "# print('Validation macro accuracy:',s * 10)\n",
        "\n",
        "s = 0\n",
        "for i in range(10):\n",
        "    s += accuracy_score(test[test['Rating']==i]['Rating'], preds3[test['Rating']==i])\n",
        "print('Test macro accuracy:',s * 10)\n"
      ],
      "execution_count": 0,
      "outputs": [
        {
          "output_type": "stream",
          "text": [
            "Test macro accuracy: 54.59768553195878\n"
          ],
          "name": "stdout"
        }
      ]
    },
    {
      "cell_type": "code",
      "metadata": {
        "id": "2J1P1vOwh-n0",
        "colab_type": "code",
        "outputId": "297da84a-d58a-4a13-85df-8dd4a18e4dff",
        "colab": {
          "base_uri": "https://localhost:8080/",
          "height": 34
        }
      },
      "source": [
        "p = r = 0\n",
        "\n",
        "for i in range(10):\n",
        "    temp = sum(test[preds3==i]['Rating'] == i) / sum(preds==i)\n",
        "    p += temp\n",
        "    temp = sum(test[preds3==i]['Rating'] == i) / sum(test['Rating']==i)\n",
        "    r += temp\n",
        "p /= 10\n",
        "r /= 10\n",
        "print(2*p*r/(p+r) * 100)"
      ],
      "execution_count": 0,
      "outputs": [
        {
          "output_type": "stream",
          "text": [
            "55.92438382026956\n"
          ],
          "name": "stdout"
        }
      ]
    },
    {
      "cell_type": "code",
      "metadata": {
        "id": "2KC0AHGUjULP",
        "colab_type": "code",
        "outputId": "a92655e2-38d5-456c-c72d-3c72696af9da",
        "colab": {
          "base_uri": "https://localhost:8080/",
          "height": 34
        }
      },
      "source": [
        "preds == 1"
      ],
      "execution_count": 0,
      "outputs": [
        {
          "output_type": "execute_result",
          "data": {
            "text/plain": [
              "array([False, False, False, ...,  True, False, False])"
            ]
          },
          "metadata": {
            "tags": []
          },
          "execution_count": 122
        }
      ]
    },
    {
      "cell_type": "code",
      "metadata": {
        "id": "SAi6GWYDIRVt",
        "colab_type": "code",
        "colab": {}
      },
      "source": [
        "# import nltk"
      ],
      "execution_count": 0,
      "outputs": []
    },
    {
      "cell_type": "code",
      "metadata": {
        "id": "AhsN-az8IW-f",
        "colab_type": "code",
        "outputId": "b58bc62d-b924-4aaf-b7df-ac3a9b77c333",
        "colab": {
          "base_uri": "https://localhost:8080/",
          "height": 69
        }
      },
      "source": [
        "# nltk.download('stopwords')"
      ],
      "execution_count": 0,
      "outputs": [
        {
          "output_type": "stream",
          "text": [
            "[nltk_data] Downloading package stopwords to /root/nltk_data...\n",
            "[nltk_data]   Unzipping corpora/stopwords.zip.\n"
          ],
          "name": "stdout"
        },
        {
          "output_type": "execute_result",
          "data": {
            "text/plain": [
              "True"
            ]
          },
          "metadata": {
            "tags": []
          },
          "execution_count": 154
        }
      ]
    }
  ]
}